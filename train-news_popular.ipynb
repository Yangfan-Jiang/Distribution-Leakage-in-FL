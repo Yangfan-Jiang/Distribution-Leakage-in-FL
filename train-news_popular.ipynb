{
 "cells": [
  {
   "cell_type": "code",
   "execution_count": null,
   "metadata": {},
   "outputs": [],
   "source": [
    "# Application of FL task\n",
    "from MLModel import *\n",
    "from FLModel import *\n",
    "from utils import *\n",
    "\n",
    "import torch\n",
    "import numpy as np\n",
    "import os\n",
    "import pandas as pd\n",
    "from sklearn.model_selection import train_test_split\n",
    "\n",
    "os.environ[\"CUDA_VISIBLE_DEVICES\"] = \"1\"\n",
    "device = torch.device(\"cuda:0\" if torch.cuda.is_available() else \"cpu\")\n",
    "#device = torch.device(\"cpu\")\n",
    "print(device)"
   ]
  },
  {
   "cell_type": "code",
   "execution_count": null,
   "metadata": {},
   "outputs": [],
   "source": [
    "data_set = 'news_popular'\n",
    "\n",
    "def load_credit2(feature, kid):\n",
    "    non_iid = []\n",
    "    test = None\n",
    "    for c in range(1, 5):\n",
    "        X_test = np.load(\"model/\"+data_set+'/'+feature+\"/c\"+str(kid)+\"/test_x\"+str(c)+\".npy\")\n",
    "        y_test = np.load(\"model/\"+data_set+'/'+feature+\"/c\"+str(kid)+\"/test_y\"+str(c)+\".npy\")\n",
    "        X_train = np.load(\"model/\"+data_set+'/'+feature+\"/c\"+str(kid)+\"/train_x\"+str(c)+\".npy\")\n",
    "        y_train = np.load(\"model/\"+data_set+'/'+feature+\"/c\"+str(kid)+\"/train_y\"+str(c)+\".npy\")\n",
    "        if test:\n",
    "            test[0] = np.concatenate((test[0], X_test), axis=0)\n",
    "            test[1] = np.concatenate((test[1], y_test), axis=0)\n",
    "        else:\n",
    "            test = [X_test, y_test]\n",
    "        non_iid.append((X_train, y_train))\n",
    "    non_iid.append((test[0], test[1]))\n",
    "    return non_iid\n",
    "\n",
    "feature = 'n_tokens_title'\n",
    "client_num = 4"
   ]
  },
  {
   "cell_type": "markdown",
   "metadata": {},
   "source": [
    "## LR model"
   ]
  },
  {
   "cell_type": "code",
   "execution_count": null,
   "metadata": {
    "scrolled": true,
    "tags": []
   },
   "outputs": [],
   "source": [
    "import warnings\n",
    "warnings.filterwarnings(\"ignore\")\n",
    "\n",
    "for eps in [0.25, 0.5, 1, 2, 4, 8, 1e12]: # \n",
    "    print(\"==========\")\n",
    "    noise = compute_noise(1, 0.05, eps, 500, 1e-4, 1e-5)\n",
    "    avg_acc = []\n",
    "    \n",
    "    for kid in range(1, 6):\n",
    "        d = load_credit2(feature, kid)\n",
    "        for _ in range(5):\n",
    "            lr = 0.15\n",
    "            fl_param = {\n",
    "                'output_size': 5,\n",
    "                'client_num': client_num,\n",
    "                'model': LogisticRegression,\n",
    "                'data': d,\n",
    "                'lr': lr,\n",
    "                'E': 100,\n",
    "                'C': 1,\n",
    "                'eps': eps,\n",
    "                'delta': 1e-4,\n",
    "                'noise': noise,\n",
    "                'q': 0.05,\n",
    "                'clip': 4,\n",
    "                'tot_T': 5,\n",
    "                'batch_size': 32,\n",
    "                'pth': \"model/\"+data_set+'/'+feature+\"/c\"+str(kid)+\"/\"+str(_+1)+\"/\",\n",
    "                'device': device\n",
    "            }\n",
    "\n",
    "            fl_entity = FLServer(fl_param).to(device)\n",
    "            acc = []\n",
    "            for e in range(5):\n",
    "                acc += [fl_entity.global_update(e+1)]\n",
    "            avg_acc.append(acc[-1])\n",
    "    print(\"eps=\", eps, \"| avg acc =\", np.mean(avg_acc))"
   ]
  },
  {
   "cell_type": "markdown",
   "metadata": {},
   "source": [
    "## MLP model"
   ]
  },
  {
   "cell_type": "code",
   "execution_count": null,
   "metadata": {},
   "outputs": [],
   "source": [
    "import warnings\n",
    "warnings.filterwarnings(\"ignore\")\n",
    "\n",
    "for eps in [0.25, 0.5, 1, 2, 4, 8, 1e12]: # \n",
    "    noise = compute_noise(1, 0.05, eps, 500, 1e-4, 1e-5)\n",
    "    avg_acc = []\n",
    "    \n",
    "    for kid in range(1, 6):\n",
    "        d = load_credit2(feature, kid)\n",
    "        \n",
    "        for _ in range(5):\n",
    "            lr = 0.15\n",
    "            fl_param = {\n",
    "                'output_size': 5,\n",
    "                'client_num': client_num,\n",
    "                'model': LightMLP2,\n",
    "                'data': d,\n",
    "                'lr': lr,\n",
    "                'E': 100,\n",
    "                'C': 1,\n",
    "                'eps': eps,\n",
    "                'delta': 1e-4,\n",
    "                'noise': noise,\n",
    "                'q': 0.05,\n",
    "                'clip': 4,\n",
    "                'tot_T': 5,\n",
    "                'batch_size': 32,\n",
    "                'pth': \"model/\"+data_set+'/'+feature+\"/c\"+str(kid)+\"/\"+str(_+1)+\"/\",\n",
    "                'device': device\n",
    "            }\n",
    "\n",
    "            fl_entity = FLServer(fl_param).to(device)\n",
    "            acc = []\n",
    "            for e in range(5):\n",
    "                acc += [fl_entity.global_update(e+1)]\n",
    "            avg_acc.append(acc[-1])\n",
    "    print(\"eps=\", eps, \"| avg acc =\", np.mean(avg_acc))"
   ]
  },
  {
   "cell_type": "code",
   "execution_count": null,
   "metadata": {},
   "outputs": [],
   "source": []
  },
  {
   "cell_type": "code",
   "execution_count": null,
   "metadata": {},
   "outputs": [],
   "source": []
  }
 ],
 "metadata": {
  "kernelspec": {
   "display_name": "Python 3 (ipykernel)",
   "language": "python",
   "name": "python3"
  },
  "language_info": {
   "codemirror_mode": {
    "name": "ipython",
    "version": 3
   },
   "file_extension": ".py",
   "mimetype": "text/x-python",
   "name": "python",
   "nbconvert_exporter": "python",
   "pygments_lexer": "ipython3",
   "version": "3.9.7"
  }
 },
 "nbformat": 4,
 "nbformat_minor": 4
}
